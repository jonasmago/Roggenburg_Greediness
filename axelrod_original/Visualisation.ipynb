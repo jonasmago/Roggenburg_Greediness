{
 "cells": [
  {
   "cell_type": "code",
   "execution_count": 1,
   "id": "0fbb9548",
   "metadata": {},
   "outputs": [],
   "source": [
    "from axelrod import Agent, Axelrod\n",
    "%load_ext autoreload\n",
    "%autoreload 2\n",
    "%matplotlib inline"
   ]
  },
  {
   "cell_type": "code",
   "execution_count": 4,
   "id": "9d76a8e1",
   "metadata": {},
   "outputs": [],
   "source": [
    "import matplotlib.pyplot as plt\n",
    "import numpy as np\n",
    "import seaborn as sns\n",
    "import pandas as pd\n",
    "from scipy.stats import pearsonr\n",
    "import random as rd"
   ]
  },
  {
   "cell_type": "code",
   "execution_count": 38,
   "id": "b7d6dbc7",
   "metadata": {},
   "outputs": [
    {
     "data": {
      "text/plain": [
       "0.6"
      ]
     },
     "execution_count": 38,
     "metadata": {},
     "output_type": "execute_result"
    }
   ],
   "source": [
    "0.6 if rd.random() < 0.5 else 0.4"
   ]
  },
  {
   "cell_type": "code",
   "execution_count": 153,
   "id": "a27f634f",
   "metadata": {},
   "outputs": [
    {
     "name": "stdout",
     "output_type": "stream",
     "text": [
      "Initial state of the model:\n",
      "\n",
      "[0.13436424411240122,0.6060872148492107][0.4494910647887381,0.2502665250074666][0.762280082457942,0.008238866575225032][0.9452706955539223,0.06962607538100761][0.029040787574867943,0.16304231647028142]\n",
      "-------------------------\n",
      "[0.2308665415409843,0.20549166802561503][0.8375779756625729,0.42725021545574754][0.8599465287952899,0.08478428925766442][0.9364405867994596,0.20846941489714382][0.5875806061435594,0.5598787926500852]\n",
      "-------------------------\n",
      "[0.034525830151341586,0.18880943918897106][0.548798761388153,0.438310637802026][0.5084264882499818,0.48844342807042146][0.029574963966907064,0.07197693125689024][0.5022385584334831,0.395101514298137]\n",
      "-------------------------\n",
      "[0.9524673882682695,0.40073591664553365][0.9571162814602269,0.012105158405917608][0.7405034118331963,0.4589493782815643][0.05612329752074041,0.1548389276078965][0.3460779190181549,0.2729322682026879]\n",
      "-------------------------\n",
      "[0.027974984083842358,0.15072804583878815][0.798438940577426,0.5573780345504553][0.6731135254387071,0.048212412093153814][0.6248020841524763,0.3242677217136364][0.16814494622242826,0.19443214674212783]\n",
      "-------------------------\n",
      "\n",
      "Running simulation...\n",
      "run 200\n"
     ]
    },
    {
     "data": {
      "image/png": "[encoded data removed]",
      "text/plain": [
       "<Figure size 432x288 with 1 Axes>"
      ]
     },
     "metadata": {
      "needs_background": "light"
     },
     "output_type": "display_data"
    },
    {
     "name": "stdout",
     "output_type": "stream",
     "text": [
      "run 400\n"
     ]
    },
    {
     "data": {
      "image/png": "[encoded data removed]",
      "text/plain": [
       "<Figure size 432x288 with 1 Axes>"
      ]
     },
     "metadata": {
      "needs_background": "light"
     },
     "output_type": "display_data"
    },
    {
     "name": "stdout",
     "output_type": "stream",
     "text": [
      "run 600\n"
     ]
    },
    {
     "data": {
      "image/png": "[encoded data removed]",
      "text/plain": [
       "<Figure size 432x288 with 1 Axes>"
      ]
     },
     "metadata": {
      "needs_background": "light"
     },
     "output_type": "display_data"
    },
    {
     "name": "stdout",
     "output_type": "stream",
     "text": [
      "run 800\n"
     ]
    },
    {
     "data": {
      "image/png": "[encoded data removed]",
      "text/plain": [
       "<Figure size 432x288 with 1 Axes>"
      ]
     },
     "metadata": {
      "needs_background": "light"
     },
     "output_type": "display_data"
    },
    {
     "name": "stdout",
     "output_type": "stream",
     "text": [
      "Final state of the model:\n",
      "[0.13436424411240122,0.3169932605197576][0.4494910647887381,0.19955394025141804][0.762280082457942,0.26039896511358485][0.9452706955539223,0.17904289476205917][0.029040787574867943,0.2759118224146921]\n",
      "-------------------------\n",
      "[0.2308665415409843,0.27353354219085013][0.8375779756625729,0.25305313478925395][0.8599465287952899,0.30377410110624214][0.9364405867994596,0.26900038998343934][0.5875806061435594,0.3338228002582858]\n",
      "-------------------------\n",
      "[0.034525830151341586,0.3368335450219037][0.548798761388153,0.31131715960536][0.5084264882499818,0.2956733071945344][0.029574963966907064,0.1979888395395214][0.5022385584334831,0.25707457104824816]\n",
      "-------------------------\n",
      "[0.9524673882682695,0.2434964393900555][0.9571162814602269,0.23030996488949856][0.7405034118331963,0.2623570099470045][0.05612329752074041,0.20601011470571656][0.3460779190181549,0.2866885236846726]\n",
      "-------------------------\n",
      "[0.027974984083842358,0.2477870169225622][0.798438940577426,0.3308618619584302][0.6731135254387071,0.32716270064384256][0.6248020841524763,0.3235907462076708][0.16814494622242826,0.21812068711908766]\n",
      "-------------------------\n"
     ]
    }
   ],
   "source": [
    "model = Axelrod()\n",
    "model.run_sim()"
   ]
  },
  {
   "cell_type": "code",
   "execution_count": 56,
   "id": "4c017990",
   "metadata": {},
   "outputs": [],
   "source": [
    "def show_histogram (model, state):\n",
    "    distribution=[]\n",
    "    for i in range (5**2):\n",
    "        distribution.append(model.results[i][state])\n",
    "    plt.hist(distribution)\n",
    "    plt.title('money distribution')\n",
    "    plt.xlabel('money')\n",
    "    plt.ylabel('agents')\n",
    "    plt.show()"
   ]
  },
  {
   "cell_type": "code",
   "execution_count": 68,
   "id": "c0c7313d",
   "metadata": {},
   "outputs": [],
   "source": [
    "#plt.clf()\n",
    "plt.figure(figsize=(3, 2), dpi=200)\n",
    "show_histogram(model,1)\n",
    "show_histogram(model,-1)"
   ]
  },
  {
   "cell_type": "code",
   "execution_count": 143,
   "id": "74ec178a",
   "metadata": {},
   "outputs": [],
   "source": [
    "def plot_money_evolve(model):\n",
    "    for i in range (5**2):\n",
    "        plt.plot (model.results[i])"
   ]
  },
  {
   "cell_type": "code",
   "execution_count": 144,
   "id": "cc937caa",
   "metadata": {},
   "outputs": [
    {
     "ename": "AttributeError",
     "evalue": "'LinearRegression' object has no attribute 'results'",
     "output_type": "error",
     "traceback": [
      "\u001b[0;31m---------------------------------------------------------------------------\u001b[0m",
      "\u001b[0;31mAttributeError\u001b[0m                            Traceback (most recent call last)",
      "Input \u001b[0;32mIn [144]\u001b[0m, in \u001b[0;36m<cell line: 1>\u001b[0;34m()\u001b[0m\n\u001b[0;32m----> 1\u001b[0m \u001b[43mplot_money_evolve\u001b[49m\u001b[43m(\u001b[49m\u001b[43mmodel\u001b[49m\u001b[43m)\u001b[49m\n",
      "Input \u001b[0;32mIn [143]\u001b[0m, in \u001b[0;36mplot_money_evolve\u001b[0;34m(model)\u001b[0m\n\u001b[1;32m      1\u001b[0m \u001b[38;5;28;01mdef\u001b[39;00m \u001b[38;5;21mplot_money_evolve\u001b[39m(model):\n\u001b[1;32m      2\u001b[0m     \u001b[38;5;28;01mfor\u001b[39;00m i \u001b[38;5;129;01min\u001b[39;00m \u001b[38;5;28mrange\u001b[39m (\u001b[38;5;241m5\u001b[39m\u001b[38;5;241m*\u001b[39m\u001b[38;5;241m*\u001b[39m\u001b[38;5;241m2\u001b[39m):\n\u001b[0;32m----> 3\u001b[0m         plt\u001b[38;5;241m.\u001b[39mplot (\u001b[43mmodel\u001b[49m\u001b[38;5;241;43m.\u001b[39;49m\u001b[43mresults\u001b[49m[i])\n",
      "\u001b[0;31mAttributeError\u001b[0m: 'LinearRegression' object has no attribute 'results'"
     ]
    }
   ],
   "source": [
    "plot_money_evolve(model)"
   ]
  },
  {
   "cell_type": "code",
   "execution_count": 89,
   "id": "977ad38f",
   "metadata": {},
   "outputs": [],
   "source": [
    "# compute the greediness and delta for our simulation\n",
    "delta = []\n",
    "greediness = []\n",
    "for i in range(5**2):\n",
    "    delta.append(model.results[i][0]-model.results[i][-1])\n",
    "    greediness.append(model.agents[i].greediness)\n"
   ]
  },
  {
   "cell_type": "markdown",
   "id": "8b8e475e",
   "metadata": {},
   "source": [
    "### compute and visualise correlations"
   ]
  },
  {
   "cell_type": "code",
   "execution_count": 134,
   "id": "7df22143",
   "metadata": {},
   "outputs": [],
   "source": [
    "plt.figure(figsize=(3, 2), dpi=200)\n",
    "# create a dataframe with the two vectors\n",
    "data = {'greediness': greediness, 'delta': np.abs(delta)}\n",
    "df = pd.DataFrame(data)\n",
    "\n",
    "# plot the scatter plot with regression line and 95% confidence interval\n",
    "sns.regplot(x='greediness', y='delta', data=df, ci=95)\n",
    "\n",
    "# add a title and axis labels\n",
    "plt.title(r'correlation between $likelihood to play$ and $|\\Delta|$')\n",
    "plt.xlabel('likelihood to play')\n",
    "plt.ylabel('$|\\Delta|$')\n",
    "\n",
    "plt.show()"
   ]
  },
  {
   "cell_type": "code",
   "execution_count": 139,
   "id": "649554c6",
   "metadata": {},
   "outputs": [
    {
     "name": "stdout",
     "output_type": "stream",
     "text": [
      "Correlation:  0.48726075450727097\n",
      "P-value:  0.01349353826946781\n"
     ]
    }
   ],
   "source": [
    "# calculate the correlation and p-value\n",
    "corr, p_value = pearsonr(greediness, np.abs(delta))\n",
    "\n",
    "# print the results\n",
    "print(\"Correlation: \", corr)\n",
    "print(\"P-value: \", p_value)"
   ]
  },
  {
   "cell_type": "markdown",
   "id": "a7adfb97",
   "metadata": {},
   "source": [
    "### implementation ideas\n",
    "\n",
    "- delta money (veränderung) abhängig von greed \n",
    "- Varianz (SD von den 25 Geld werten zu zeit t) / Zeit \n",
    "\n",
    "\n",
    "- Einkommensverteilung \n",
    "- Graph mit Einkommensverteilung \n",
    "- correlation between \n",
    "    - reich & greedy\n",
    "    - arm.. \n",
    "\n"
   ]
  },
  {
   "cell_type": "code",
   "execution_count": null,
   "id": "21c7ced6",
   "metadata": {},
   "outputs": [],
   "source": []
  }
 ],
 "metadata": {
  "kernelspec": {
   "display_name": "Python 3 (ipykernel)",
   "language": "python",
   "name": "python3"
  },
  "language_info": {
   "codemirror_mode": {
    "name": "ipython",
    "version": 3
   },
   "file_extension": ".py",
   "mimetype": "text/x-python",
   "name": "python",
   "nbconvert_exporter": "python",
   "pygments_lexer": "ipython3",
   "version": "3.9.12"
  }
 },
 "nbformat": 4,
 "nbformat_minor": 5
}
