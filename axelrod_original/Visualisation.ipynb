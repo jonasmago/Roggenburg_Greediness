{
 "cells": [
  {
   "cell_type": "code",
   "execution_count": 1,
   "id": "0fbb9548",
   "metadata": {},
   "outputs": [],
   "source": [
    "from axelrod import Agent, Axelrod\n",
    "%load_ext autoreload\n",
    "%autoreload 2\n",
    "%matplotlib qt\n",
    "\n",
    "import matplotlib.pyplot as plt\n",
    "import numpy as np\n",
    "import seaborn as sns\n",
    "import pandas as pd\n",
    "from scipy.stats import pearsonr\n",
    "import random as rd\n",
    "from inequality import gini"
   ]
  },
  {
   "cell_type": "code",
   "execution_count": 13,
   "id": "664fa99c",
   "metadata": {},
   "outputs": [
    {
     "name": "stdout",
     "output_type": "stream",
     "text": [
      "Initial state of the model:\n",
      "\n",
      "[1][1][1][1][1][1][1]\n",
      "-----------------------------------\n",
      "[1][1][1][1][1][1][1]\n",
      "-----------------------------------\n",
      "[1][1][1][1][1][1][1]\n",
      "-----------------------------------\n",
      "[1][1][1][1][1][1][1]\n",
      "-----------------------------------\n",
      "[1][1][1][1][1][1][1]\n",
      "-----------------------------------\n",
      "[1][1][1][1][1][1][1]\n",
      "-----------------------------------\n",
      "[1][1][1][1][1][1][1]\n",
      "-----------------------------------\n",
      "\n",
      "Running simulation...\n",
      "Final state of the model:\n",
      "[-0.010769021623065422][2.384117796365886][2.169111199749887][-0.004227121653379304][4.515710205536783][0.8024129420131492][0.035467122127002614]\n",
      "-----------------------------------\n",
      "[3.7105412419452413][-0.006314391328174168][1.2232783809269658][0.2057182372574144][1.012856397120696][0.21602743325719445][-0.007325382324823807]\n",
      "-----------------------------------\n",
      "[0.7003318615325901][0.8160819656503698][0.0432716985913202][2.5142273261813313][-0.010430648721324863][-0.00502234695455629][4.798713103021019]\n",
      "-----------------------------------\n",
      "[2.8659366228823226][0.7901999944525968][0.26720429555695124][-0.003888570595829482][0.04203372128384673][-0.012607519436664638][0.031183846172385534]\n",
      "-----------------------------------\n",
      "[3.0904724670940396][4.602692157581508][1.4142840960633636][0.6804502616968449][-0.0068105706410317044][2.0300973187035547][-0.00043987441362181636]\n",
      "-----------------------------------\n",
      "[0.05110997200090378][-0.017840239605529874][1.977475390597055][-0.007811412338635169][-0.013644074223042046][-0.010705037550267443][0.36155307862547614]\n",
      "-----------------------------------\n",
      "[0.000648597201618166][-0.011594710976158268][-0.01680878711457003][-0.0023964905472529385][4.430774936214641][-0.007223051911125112][1.3718755848544448]\n",
      "-----------------------------------\n"
     ]
    }
   ],
   "source": [
    "model = Axelrod()\n",
    "model.run_sim()"
   ]
  },
  {
   "cell_type": "code",
   "execution_count": 14,
   "id": "7db0ac3a",
   "metadata": {},
   "outputs": [
    {
     "name": "stderr",
     "output_type": "stream",
     "text": [
      "2023-03-31 19:33:50.656 python[91694:3341336] +[CATransaction synchronize] called within transaction\n"
     ]
    }
   ],
   "source": [
    "def plot_money_evolve(model):\n",
    "    plt.figure(figsize=(3, 2), dpi=200)\n",
    "    for i in range (5**2):\n",
    "        if model.agents[i].greediness > 0.5:\n",
    "            plt.plot (model.results[i], 'r')\n",
    "        else:\n",
    "            plt.plot (model.results[i], 'b')\n",
    "#    plt.ax.set_yscale('log')\n",
    "    plt.title('0.5% taxes/year')\n",
    "    plt.xlabel('time')\n",
    "    plt.ylabel('geld')\n",
    "    plt.show()\n",
    "plot_money_evolve(model)"
   ]
  },
  {
   "cell_type": "code",
   "execution_count": 15,
   "id": "60a034bc",
   "metadata": {},
   "outputs": [],
   "source": [
    "def gini(x):\n",
    "    total = 0\n",
    "    for i, xi in enumerate(x[:-1], 1):\n",
    "        total += np.sum(np.abs(xi - x[i:]))\n",
    "    return total / (len(x)**2 * np.mean(x))\n",
    "\n",
    "# assume your model.results dictionary contains N vectors, each of dimension D\n",
    "N = len(model.results)\n",
    "D = len(model.results[0])  # assuming all vectors have the same dimension\n",
    "\n",
    "# initialize a NxD matrix with zeros\n",
    "matrix = np.zeros((N, D))\n",
    "\n",
    "# fill in the matrix with the vectors from the dictionary\n",
    "for i in range(N):\n",
    "    matrix[i] = model.results[i]\n",
    "    \n",
    "\n",
    "# assume your matrix is called 'matrix'\n",
    "n_features, n_timepoints = matrix.shape\n",
    "\n",
    "# create an empty array to store the Gini Index for each timepoint\n",
    "gini_index = np.zeros(n_timepoints)\n",
    "\n",
    "# loop over each timepoint\n",
    "for t in range(n_timepoints):\n",
    "    # get the vector at this timepoint\n",
    "    vector = matrix[:,t]\n",
    "    '''\n",
    "    # calculate the highest 10% and lowest 50% of values in the vector\n",
    "    sorted_vector = np.sort(vector)\n",
    "    top_10_percent = sorted_vector[-int(len(sorted_vector) * 0.1):]\n",
    "    bottom_50_percent = sorted_vector[:int(len(sorted_vector) * 0.5)]\n",
    "    \n",
    "    # calculate the average of these values\n",
    "    avg_top_10_percent = np.mean(top_10_percent)\n",
    "    avg_bottom_50_percent = np.mean(bottom_50_percent)\n",
    "    \n",
    "    # calculate the Gini Index for this timepoint\n",
    "    gini_index[t] = avg_top_10_percent - avg_bottom_50_percent\n",
    "    '''\n",
    "    gini_index[t] = gini(vector)\n"
   ]
  },
  {
   "cell_type": "code",
   "execution_count": 17,
   "id": "751ee2e0",
   "metadata": {},
   "outputs": [
    {
     "name": "stderr",
     "output_type": "stream",
     "text": [
      "2023-03-31 19:36:15.194 python[91694:3341336] +[CATransaction synchronize] called within transaction\n",
      "2023-03-31 19:36:22.867 python[91694:3341336] +[CATransaction synchronize] called within transaction\n"
     ]
    }
   ],
   "source": [
    "# plot the Gini Index over time\n",
    "plt.plot(gini_index)\n",
    "plt.title('gini coefficient over time: 0.5% taxes')\n",
    "plt.xlabel('Time')\n",
    "plt.ylabel('Gini Index')\n",
    "plt.show()"
   ]
  },
  {
   "cell_type": "markdown",
   "id": "e5f35121",
   "metadata": {},
   "source": [
    "# not yet complete!"
   ]
  },
  {
   "cell_type": "code",
   "execution_count": 43,
   "id": "3c26f919",
   "metadata": {},
   "outputs": [
    {
     "data": {
      "text/plain": [
       "[0, 0, 3, 4, 5, 6, 7, 8, 9]"
      ]
     },
     "execution_count": 43,
     "metadata": {},
     "output_type": "execute_result"
    }
   ],
   "source": [
    "# takes a 1D vector and gives the order of all elements that are bigger than 'lower_bound'. \n",
    "# the order of all values lower than 'lower_bound' is set to 0\n",
    "\n",
    "def get_order (vector, lower_bound):\n",
    "    vector = [0 if x < lower_bound else x for x in vector]\n",
    "    sorted_indices = sorted(range(len(vector)), key=lambda i: vector[i])\n",
    "    ordered = [0] * len(vector)\n",
    "    for rank, index in enumerate(sorted_indices):\n",
    "        ordered[index] = rank+1\n",
    "    ordered = [0 if x == 0 else y for x, y in zip(vector, ordered)]\n",
    "    return (ordered)\n",
    "get_order([1,2,3,4,5,6,7,8,9], 3)"
   ]
  },
  {
   "cell_type": "code",
   "execution_count": 67,
   "id": "de62ca55",
   "metadata": {},
   "outputs": [],
   "source": [
    "# assume your model.results dictionary contains N vectors, each of dimension D\n",
    "N = len(model.results)\n",
    "D = len(model.results[0])  # assuming all vectors have the same dimension\n",
    "\n",
    "# initialize a NxD matrix with zeros\n",
    "matrix = np.zeros((N, D))\n",
    "\n",
    "# fill in the matrix with the vectors from the dictionary\n",
    "for i in range(N):\n",
    "    matrix[i] = model.results[i]"
   ]
  },
  {
   "cell_type": "code",
   "execution_count": 59,
   "id": "29816449",
   "metadata": {},
   "outputs": [
    {
     "name": "stdout",
     "output_type": "stream",
     "text": [
      "[1, 5, 3, 6, 2, 4]\n"
     ]
    }
   ],
   "source": [
    "# definiere wie viel änderung dort ist!\n",
    "vector1 = [0, 6, 2, 9, 1, 3]\n",
    "\n",
    "# create the order vector for vector1\n",
    "sorted_indices = sorted(range(len(vector1)), key=lambda i: vector1[i])\n",
    "order_vector1 = [0] * len(vector1)\n",
    "for rank, index in enumerate(sorted_indices):\n",
    "    order_vector1[index] = rank + 1\n",
    "\n",
    "print(order_vector1)\n",
    "# output: [1, 4, 3, 5, 2]"
   ]
  },
  {
   "cell_type": "code",
   "execution_count": 44,
   "id": "4c017990",
   "metadata": {},
   "outputs": [],
   "source": [
    "def show_histogram (model, state):\n",
    "    distribution=[]\n",
    "    for i in range (5**2):\n",
    "        distribution.append(model.results[i][state])\n",
    "    plt.hist(distribution)\n",
    "    plt.title('money distribution')\n",
    "    plt.xlabel('money')\n",
    "    plt.ylabel('agents')\n",
    "    plt.show()"
   ]
  },
  {
   "cell_type": "code",
   "execution_count": 45,
   "id": "977ad38f",
   "metadata": {},
   "outputs": [],
   "source": [
    "# compute the greediness and delta for our simulation\n",
    "delta = []\n",
    "greediness = []\n",
    "for i in range(5**2):\n",
    "    delta.append(model.results[i][0]-model.results[i][-1])\n",
    "    greediness.append(model.agents[i].greediness)\n"
   ]
  },
  {
   "cell_type": "markdown",
   "id": "8b8e475e",
   "metadata": {},
   "source": [
    "### compute and visualise correlations"
   ]
  },
  {
   "cell_type": "code",
   "execution_count": 46,
   "id": "7df22143",
   "metadata": {},
   "outputs": [],
   "source": [
    "plt.figure(figsize=(3, 2), dpi=200)\n",
    "# create a dataframe with the two vectors\n",
    "data = {'greediness': greediness, 'delta': np.abs(delta)}\n",
    "df = pd.DataFrame(data)\n",
    "\n",
    "# plot the scatter plot with regression line and 95% confidence interval\n",
    "sns.regplot(x='greediness', y='delta', data=df, ci=95)\n",
    "\n",
    "# add a title and axis labels\n",
    "plt.title(r'correlation between $likelihood to play$ and $|\\Delta|$')\n",
    "plt.xlabel('likelihood to play')\n",
    "plt.ylabel('$|\\Delta|$')\n",
    "\n",
    "plt.show()"
   ]
  },
  {
   "cell_type": "code",
   "execution_count": 139,
   "id": "649554c6",
   "metadata": {},
   "outputs": [
    {
     "name": "stdout",
     "output_type": "stream",
     "text": [
      "Correlation:  0.48726075450727097\n",
      "P-value:  0.01349353826946781\n"
     ]
    }
   ],
   "source": [
    "# calculate the correlation and p-value\n",
    "corr, p_value = pearsonr(greediness, np.abs(delta))\n",
    "\n",
    "# print the results\n",
    "print(\"Correlation: \", corr)\n",
    "print(\"P-value: \", p_value)"
   ]
  },
  {
   "cell_type": "markdown",
   "id": "a7adfb97",
   "metadata": {},
   "source": [
    "### implementation ideas\n",
    "\n",
    "- delta money (veränderung) abhängig von greed \n",
    "- Varianz (SD von den 25 Geld werten zu zeit t) / Zeit \n",
    "\n",
    "\n",
    "- Einkommensverteilung \n",
    "- Graph mit Einkommensverteilung \n",
    "- correlation between \n",
    "    - reich & greedy\n",
    "    - arm.. \n",
    "\n"
   ]
  },
  {
   "cell_type": "code",
   "execution_count": null,
   "id": "21c7ced6",
   "metadata": {},
   "outputs": [],
   "source": []
  }
 ],
 "metadata": {
  "kernelspec": {
   "display_name": "Python 3 (ipykernel)",
   "language": "python",
   "name": "python3"
  },
  "language_info": {
   "codemirror_mode": {
    "name": "ipython",
    "version": 3
   },
   "file_extension": ".py",
   "mimetype": "text/x-python",
   "name": "python",
   "nbconvert_exporter": "python",
   "pygments_lexer": "ipython3",
   "version": "3.9.12"
  }
 },
 "nbformat": 4,
 "nbformat_minor": 5
}
