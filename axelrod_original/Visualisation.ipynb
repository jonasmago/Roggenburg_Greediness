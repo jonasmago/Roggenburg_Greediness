{
 "cells": [
  {
   "cell_type": "code",
   "execution_count": 3,
   "id": "0fbb9548",
   "metadata": {},
   "outputs": [
    {
     "name": "stdout",
     "output_type": "stream",
     "text": [
      "The autoreload extension is already loaded. To reload it, use:\n",
      "  %reload_ext autoreload\n"
     ]
    }
   ],
   "source": [
    "from axelrod import Agent, Axelrod\n",
    "%load_ext autoreload\n",
    "%autoreload 2\n",
    "%matplotlib qt"
   ]
  },
  {
   "cell_type": "code",
   "execution_count": 136,
   "id": "9d76a8e1",
   "metadata": {},
   "outputs": [],
   "source": [
    "import matplotlib.pyplot as plt\n",
    "import numpy as np\n",
    "import seaborn as sns\n",
    "import pandas as pd\n",
    "from scipy.stats import pearsonr"
   ]
  },
  {
   "cell_type": "code",
   "execution_count": 145,
   "id": "a27f634f",
   "metadata": {},
   "outputs": [
    {
     "name": "stdout",
     "output_type": "stream",
     "text": [
      "Initial state of the model:\n",
      "\n",
      "[0.6004183762422298,0.5811890103820763][0.6458441420900727,0.6160548338353001][0.24633301429585752,0.40396594370845385][0.26942048609465896,0.583453044099757][0.30692692236478536,0.9904421377284319]\n",
      "-------------------------\n",
      "[0.11646223892264873,0.4623983984776252][0.9367844391001912,0.18631063225783595][0.2890258470418381,0.7715379009394493][0.04007171565127621,0.260822329684374][0.7097516254358219,0.2471839005092198]\n",
      "-------------------------\n",
      "[0.7953071486142961,0.2246631054695919][0.6951507264379606,0.9080683738382028][0.09522703740693217,0.6826222493147435][0.6017999509155079,0.1374183496013882][0.8078679074584196,0.3881038150807947]\n",
      "-------------------------\n",
      "[0.3962008193904222,0.28487395448972286][0.7997635845728451,0.6513699650232011][0.05649875104543289,0.9465163458066216][0.7522959425624834,0.9604509144465685][0.15555487300655302,0.8601790946846196]\n",
      "-------------------------\n",
      "[0.4433258239192107,0.8740191117837566][0.7961335362177036,0.1857190272988296][0.9916204739489616,0.31042087279124675][0.13647137539907683,0.19727211745630846][0.049006824472838106,0.34657627995223417]\n",
      "-------------------------\n",
      "\n",
      "Running simulation...\n",
      "run 2000\n",
      "run 4000\n",
      "run 6000\n",
      "run 8000\n",
      "Final state of the model:\n",
      "[0.6004183762422298,0.9811890103820763][0.6458441420900727,6.116054833835295][0.24633301429585752,-0.2960340562915462][0.26942048609465896,-0.21654695590024295][0.30692692236478536,-2.6095578622715694]\n",
      "-------------------------\n",
      "[0.11646223892264873,0.5623983984776252][0.9367844391001912,-7.613689367742154][0.2890258470418381,-3.2284620990605526][0.04007171565127621,3.0608223296843757][0.7097516254358219,-4.252816099490782]\n",
      "-------------------------\n",
      "[0.7953071486142961,-3.7753368945304104][0.6951507264379606,5.808068373838199][0.09522703740693217,2.5826222493147446][0.6017999509155079,-3.662581650398614][0.8078679074584196,-4.811896184919204]\n",
      "-------------------------\n",
      "[0.3962008193904222,1.9848739544897236][0.7997635845728451,5.0513699650232][0.05649875104543289,2.746516345806623][0.7522959425624834,9.660450914446551][0.15555487300655302,1.2601790946846196]\n",
      "-------------------------\n",
      "[0.4433258239192107,2.074019111783757][0.7961335362177036,-1.4142809727011705][0.9916204739489616,1.7104208727912473][0.13647137539907683,-2.5027278825436925][0.049006824472838106,3.8465762799522363]\n",
      "-------------------------\n"
     ]
    }
   ],
   "source": [
    "model = Axelrod()\n",
    "model.run_sim()"
   ]
  },
  {
   "cell_type": "code",
   "execution_count": 56,
   "id": "6930ff7b",
   "metadata": {},
   "outputs": [],
   "source": [
    "def show_histogram (model, state):\n",
    "    distribution=[]\n",
    "    for i in range (5**2):\n",
    "        distribution.append(model.results[i][state])\n",
    "    plt.hist(distribution)\n",
    "    plt.title('money distribution')\n",
    "    plt.xlabel('money')\n",
    "    plt.ylabel('agents')\n",
    "    plt.show()"
   ]
  },
  {
   "cell_type": "code",
   "execution_count": 68,
   "id": "f5a066f8",
   "metadata": {},
   "outputs": [],
   "source": [
    "#plt.clf()\n",
    "plt.figure(figsize=(3, 2), dpi=200)\n",
    "show_histogram(model,1)\n",
    "show_histogram(model,-1)"
   ]
  },
  {
   "cell_type": "code",
   "execution_count": 143,
   "id": "51daa51c",
   "metadata": {},
   "outputs": [],
   "source": [
    "def plot_money_evolve(model):\n",
    "    for i in range (5**2):\n",
    "        plt.plot (model.results[i])"
   ]
  },
  {
   "cell_type": "code",
   "execution_count": 144,
   "id": "409d00d2",
   "metadata": {},
   "outputs": [
    {
     "ename": "AttributeError",
     "evalue": "'LinearRegression' object has no attribute 'results'",
     "output_type": "error",
     "traceback": [
      "\u001b[0;31m---------------------------------------------------------------------------\u001b[0m",
      "\u001b[0;31mAttributeError\u001b[0m                            Traceback (most recent call last)",
      "Input \u001b[0;32mIn [144]\u001b[0m, in \u001b[0;36m<cell line: 1>\u001b[0;34m()\u001b[0m\n\u001b[0;32m----> 1\u001b[0m \u001b[43mplot_money_evolve\u001b[49m\u001b[43m(\u001b[49m\u001b[43mmodel\u001b[49m\u001b[43m)\u001b[49m\n",
      "Input \u001b[0;32mIn [143]\u001b[0m, in \u001b[0;36mplot_money_evolve\u001b[0;34m(model)\u001b[0m\n\u001b[1;32m      1\u001b[0m \u001b[38;5;28;01mdef\u001b[39;00m \u001b[38;5;21mplot_money_evolve\u001b[39m(model):\n\u001b[1;32m      2\u001b[0m     \u001b[38;5;28;01mfor\u001b[39;00m i \u001b[38;5;129;01min\u001b[39;00m \u001b[38;5;28mrange\u001b[39m (\u001b[38;5;241m5\u001b[39m\u001b[38;5;241m*\u001b[39m\u001b[38;5;241m*\u001b[39m\u001b[38;5;241m2\u001b[39m):\n\u001b[0;32m----> 3\u001b[0m         plt\u001b[38;5;241m.\u001b[39mplot (\u001b[43mmodel\u001b[49m\u001b[38;5;241;43m.\u001b[39;49m\u001b[43mresults\u001b[49m[i])\n",
      "\u001b[0;31mAttributeError\u001b[0m: 'LinearRegression' object has no attribute 'results'"
     ]
    }
   ],
   "source": [
    "plot_money_evolve(model)"
   ]
  },
  {
   "cell_type": "code",
   "execution_count": 89,
   "id": "21ba4dd3",
   "metadata": {},
   "outputs": [],
   "source": [
    "# compute the greediness and delta for our simulation\n",
    "delta = []\n",
    "greediness = []\n",
    "for i in range(5**2):\n",
    "    delta.append(model.results[i][0]-model.results[i][-1])\n",
    "    greediness.append(model.agents[i].greediness)\n"
   ]
  },
  {
   "cell_type": "markdown",
   "id": "dcf06b24",
   "metadata": {},
   "source": [
    "### compute and visualise correlations"
   ]
  },
  {
   "cell_type": "code",
   "execution_count": 134,
   "id": "f849f383",
   "metadata": {},
   "outputs": [],
   "source": [
    "plt.figure(figsize=(3, 2), dpi=200)\n",
    "# create a dataframe with the two vectors\n",
    "data = {'greediness': greediness, 'delta': np.abs(delta)}\n",
    "df = pd.DataFrame(data)\n",
    "\n",
    "# plot the scatter plot with regression line and 95% confidence interval\n",
    "sns.regplot(x='greediness', y='delta', data=df, ci=95)\n",
    "\n",
    "# add a title and axis labels\n",
    "plt.title(r'correlation between $likelihood to play$ and $|\\Delta|$')\n",
    "plt.xlabel('likelihood to play')\n",
    "plt.ylabel('$|\\Delta|$')\n",
    "\n",
    "plt.show()"
   ]
  },
  {
   "cell_type": "code",
   "execution_count": 139,
   "id": "e93e5d5d",
   "metadata": {},
   "outputs": [
    {
     "name": "stdout",
     "output_type": "stream",
     "text": [
      "Correlation:  0.48726075450727097\n",
      "P-value:  0.01349353826946781\n"
     ]
    }
   ],
   "source": [
    "# calculate the correlation and p-value\n",
    "corr, p_value = pearsonr(greediness, np.abs(delta))\n",
    "\n",
    "# print the results\n",
    "print(\"Correlation: \", corr)\n",
    "print(\"P-value: \", p_value)"
   ]
  },
  {
   "cell_type": "markdown",
   "id": "a7adfb97",
   "metadata": {},
   "source": [
    "### implementation ideas\n",
    "\n",
    "- delta money (veränderung) abhängig von greed \n",
    "- Varianz (SD von den 25 Geld werten zu zeit t) / Zeit \n",
    "\n",
    "\n",
    "- Einkommensverteilung \n",
    "- Graph mit Einkommensverteilung \n",
    "- correlation between \n",
    "    - reich & greedy\n",
    "    - arm.. \n",
    "\n"
   ]
  },
  {
   "cell_type": "code",
   "execution_count": null,
   "id": "6fdef654",
   "metadata": {},
   "outputs": [],
   "source": []
  }
 ],
 "metadata": {
  "kernelspec": {
   "display_name": "Python 3 (ipykernel)",
   "language": "python",
   "name": "python3"
  },
  "language_info": {
   "codemirror_mode": {
    "name": "ipython",
    "version": 3
   },
   "file_extension": ".py",
   "mimetype": "text/x-python",
   "name": "python",
   "nbconvert_exporter": "python",
   "pygments_lexer": "ipython3",
   "version": "3.9.12"
  }
 },
 "nbformat": 4,
 "nbformat_minor": 5
}
